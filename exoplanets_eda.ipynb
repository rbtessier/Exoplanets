{
 "cells": [
  {
   "attachments": {},
   "cell_type": "markdown",
   "metadata": {},
   "source": [
    "# NASA Exoplanet Archive dataset exploration\n",
    "\n",
    "[NASA Exoplanet Archive](https://exoplanetarchive.ipac.caltech.edu/index.html) is a website that tracks exoplanets. It has a dataset explorer and I exported the default exoplaner dataset on Jan 27, 2023."
   ]
  },
  {
   "cell_type": "code",
   "execution_count": 1,
   "metadata": {},
   "outputs": [],
   "source": [
    "import pandas as pd\n",
    "import seaborn as sns\n",
    "import matplotlib.pyplot as plt\n",
    "import missingno as msno\n",
    "\n",
    "data = 'PS_2023.01.27_19.53.08.csv'\n",
    "\n",
    "exoplanets = pd.read_csv(data)"
   ]
  },
  {
   "attachments": {},
   "cell_type": "markdown",
   "metadata": {},
   "source": [
    "The website was a bit confusing, but I think I'm taking the default table offered on the website and I think my understanding is correct\n",
    "\n",
    "- *Granularity:* granularity is publications mentioning planet. Includes many diagnostics, see `PS_2023.01.27_19.53.08 metadata.xlsx` for column definitions."
   ]
  },
  {
   "cell_type": "code",
   "execution_count": 2,
   "metadata": {},
   "outputs": [
    {
     "data": {
      "text/html": [
       "<div>\n",
       "<style scoped>\n",
       "    .dataframe tbody tr th:only-of-type {\n",
       "        vertical-align: middle;\n",
       "    }\n",
       "\n",
       "    .dataframe tbody tr th {\n",
       "        vertical-align: top;\n",
       "    }\n",
       "\n",
       "    .dataframe thead th {\n",
       "        text-align: right;\n",
       "    }\n",
       "</style>\n",
       "<table border=\"1\" class=\"dataframe\">\n",
       "  <thead>\n",
       "    <tr style=\"text-align: right;\">\n",
       "      <th></th>\n",
       "      <th>loc_rowid</th>\n",
       "      <th>pl_name</th>\n",
       "      <th>hostname</th>\n",
       "      <th>default_flag</th>\n",
       "      <th>sy_snum</th>\n",
       "      <th>sy_pnum</th>\n",
       "      <th>discoverymethod</th>\n",
       "      <th>disc_year</th>\n",
       "      <th>disc_facility</th>\n",
       "      <th>soltype</th>\n",
       "      <th>...</th>\n",
       "      <th>sy_vmagerr2</th>\n",
       "      <th>sy_kmag</th>\n",
       "      <th>sy_kmagerr1</th>\n",
       "      <th>sy_kmagerr2</th>\n",
       "      <th>sy_gaiamag</th>\n",
       "      <th>sy_gaiamagerr1</th>\n",
       "      <th>sy_gaiamagerr2</th>\n",
       "      <th>rowupdate</th>\n",
       "      <th>pl_pubdate</th>\n",
       "      <th>releasedate</th>\n",
       "    </tr>\n",
       "  </thead>\n",
       "  <tbody>\n",
       "    <tr>\n",
       "      <th>0</th>\n",
       "      <td>1</td>\n",
       "      <td>11 Com b</td>\n",
       "      <td>11 Com</td>\n",
       "      <td>1</td>\n",
       "      <td>2</td>\n",
       "      <td>1</td>\n",
       "      <td>Radial Velocity</td>\n",
       "      <td>2007</td>\n",
       "      <td>Xinglong Station</td>\n",
       "      <td>Published Confirmed</td>\n",
       "      <td>...</td>\n",
       "      <td>-0.023</td>\n",
       "      <td>2.282</td>\n",
       "      <td>0.346</td>\n",
       "      <td>-0.346</td>\n",
       "      <td>4.44038</td>\n",
       "      <td>0.003848</td>\n",
       "      <td>-0.003848</td>\n",
       "      <td>2014-05-14</td>\n",
       "      <td>Jan-08</td>\n",
       "      <td>2014-05-14</td>\n",
       "    </tr>\n",
       "    <tr>\n",
       "      <th>1</th>\n",
       "      <td>2</td>\n",
       "      <td>11 Com b</td>\n",
       "      <td>11 Com</td>\n",
       "      <td>0</td>\n",
       "      <td>2</td>\n",
       "      <td>1</td>\n",
       "      <td>Radial Velocity</td>\n",
       "      <td>2007</td>\n",
       "      <td>Xinglong Station</td>\n",
       "      <td>Published Confirmed</td>\n",
       "      <td>...</td>\n",
       "      <td>-0.023</td>\n",
       "      <td>2.282</td>\n",
       "      <td>0.346</td>\n",
       "      <td>-0.346</td>\n",
       "      <td>4.44038</td>\n",
       "      <td>0.003848</td>\n",
       "      <td>-0.003848</td>\n",
       "      <td>2014-07-23</td>\n",
       "      <td>Aug-11</td>\n",
       "      <td>2014-07-23</td>\n",
       "    </tr>\n",
       "    <tr>\n",
       "      <th>2</th>\n",
       "      <td>3</td>\n",
       "      <td>11 UMi b</td>\n",
       "      <td>11 UMi</td>\n",
       "      <td>0</td>\n",
       "      <td>1</td>\n",
       "      <td>1</td>\n",
       "      <td>Radial Velocity</td>\n",
       "      <td>2009</td>\n",
       "      <td>Thueringer Landessternwarte Tautenburg</td>\n",
       "      <td>Published Confirmed</td>\n",
       "      <td>...</td>\n",
       "      <td>-0.005</td>\n",
       "      <td>1.939</td>\n",
       "      <td>0.270</td>\n",
       "      <td>-0.270</td>\n",
       "      <td>4.56216</td>\n",
       "      <td>0.003903</td>\n",
       "      <td>-0.003903</td>\n",
       "      <td>2018-04-25</td>\n",
       "      <td>Oct-09</td>\n",
       "      <td>2014-05-14</td>\n",
       "    </tr>\n",
       "    <tr>\n",
       "      <th>3</th>\n",
       "      <td>4</td>\n",
       "      <td>11 UMi b</td>\n",
       "      <td>11 UMi</td>\n",
       "      <td>0</td>\n",
       "      <td>1</td>\n",
       "      <td>1</td>\n",
       "      <td>Radial Velocity</td>\n",
       "      <td>2009</td>\n",
       "      <td>Thueringer Landessternwarte Tautenburg</td>\n",
       "      <td>Published Confirmed</td>\n",
       "      <td>...</td>\n",
       "      <td>-0.005</td>\n",
       "      <td>1.939</td>\n",
       "      <td>0.270</td>\n",
       "      <td>-0.270</td>\n",
       "      <td>4.56216</td>\n",
       "      <td>0.003903</td>\n",
       "      <td>-0.003903</td>\n",
       "      <td>2018-04-25</td>\n",
       "      <td>Aug-11</td>\n",
       "      <td>2014-07-23</td>\n",
       "    </tr>\n",
       "    <tr>\n",
       "      <th>4</th>\n",
       "      <td>5</td>\n",
       "      <td>11 UMi b</td>\n",
       "      <td>11 UMi</td>\n",
       "      <td>1</td>\n",
       "      <td>1</td>\n",
       "      <td>1</td>\n",
       "      <td>Radial Velocity</td>\n",
       "      <td>2009</td>\n",
       "      <td>Thueringer Landessternwarte Tautenburg</td>\n",
       "      <td>Published Confirmed</td>\n",
       "      <td>...</td>\n",
       "      <td>-0.005</td>\n",
       "      <td>1.939</td>\n",
       "      <td>0.270</td>\n",
       "      <td>-0.270</td>\n",
       "      <td>4.56216</td>\n",
       "      <td>0.003903</td>\n",
       "      <td>-0.003903</td>\n",
       "      <td>2018-09-04</td>\n",
       "      <td>Mar-17</td>\n",
       "      <td>2018-09-06</td>\n",
       "    </tr>\n",
       "  </tbody>\n",
       "</table>\n",
       "<p>5 rows × 93 columns</p>\n",
       "</div>"
      ],
      "text/plain": [
       "   loc_rowid   pl_name hostname  default_flag  sy_snum  sy_pnum  \\\n",
       "0          1  11 Com b   11 Com             1        2        1   \n",
       "1          2  11 Com b   11 Com             0        2        1   \n",
       "2          3  11 UMi b   11 UMi             0        1        1   \n",
       "3          4  11 UMi b   11 UMi             0        1        1   \n",
       "4          5  11 UMi b   11 UMi             1        1        1   \n",
       "\n",
       "   discoverymethod  disc_year                           disc_facility  \\\n",
       "0  Radial Velocity       2007                        Xinglong Station   \n",
       "1  Radial Velocity       2007                        Xinglong Station   \n",
       "2  Radial Velocity       2009  Thueringer Landessternwarte Tautenburg   \n",
       "3  Radial Velocity       2009  Thueringer Landessternwarte Tautenburg   \n",
       "4  Radial Velocity       2009  Thueringer Landessternwarte Tautenburg   \n",
       "\n",
       "               soltype  ...  sy_vmagerr2 sy_kmag  sy_kmagerr1  sy_kmagerr2  \\\n",
       "0  Published Confirmed  ...       -0.023   2.282        0.346       -0.346   \n",
       "1  Published Confirmed  ...       -0.023   2.282        0.346       -0.346   \n",
       "2  Published Confirmed  ...       -0.005   1.939        0.270       -0.270   \n",
       "3  Published Confirmed  ...       -0.005   1.939        0.270       -0.270   \n",
       "4  Published Confirmed  ...       -0.005   1.939        0.270       -0.270   \n",
       "\n",
       "   sy_gaiamag  sy_gaiamagerr1  sy_gaiamagerr2   rowupdate  pl_pubdate  \\\n",
       "0     4.44038        0.003848       -0.003848  2014-05-14      Jan-08   \n",
       "1     4.44038        0.003848       -0.003848  2014-07-23      Aug-11   \n",
       "2     4.56216        0.003903       -0.003903  2018-04-25      Oct-09   \n",
       "3     4.56216        0.003903       -0.003903  2018-04-25      Aug-11   \n",
       "4     4.56216        0.003903       -0.003903  2018-09-04      Mar-17   \n",
       "\n",
       "   releasedate  \n",
       "0   2014-05-14  \n",
       "1   2014-07-23  \n",
       "2   2014-05-14  \n",
       "3   2014-07-23  \n",
       "4   2018-09-06  \n",
       "\n",
       "[5 rows x 93 columns]"
      ]
     },
     "execution_count": 2,
     "metadata": {},
     "output_type": "execute_result"
    }
   ],
   "source": [
    "exoplanets.head()"
   ]
  },
  {
   "attachments": {},
   "cell_type": "markdown",
   "metadata": {},
   "source": [
    "As I don't know much about astronomy, but am keenly interested, I search for quick wins in the dataset. Some summary metrics to help understand what we're looking at. To do that, we'll separate out the categorical features and the numerical features. This provides ease as, without any knowledge the categories generally describe more general characteristics."
   ]
  },
  {
   "cell_type": "code",
   "execution_count": 3,
   "metadata": {},
   "outputs": [
    {
     "name": "stdout",
     "output_type": "stream",
     "text": [
      "<class 'pandas.core.frame.DataFrame'>\n",
      "RangeIndex: 33873 entries, 0 to 33872\n",
      "Data columns (total 93 columns):\n",
      " #   Column           Non-Null Count  Dtype  \n",
      "---  ------           --------------  -----  \n",
      " 0   loc_rowid        33873 non-null  int64  \n",
      " 1   pl_name          33873 non-null  object \n",
      " 2   hostname         33873 non-null  object \n",
      " 3   default_flag     33873 non-null  int64  \n",
      " 4   sy_snum          33873 non-null  int64  \n",
      " 5   sy_pnum          33873 non-null  int64  \n",
      " 6   discoverymethod  33873 non-null  object \n",
      " 7   disc_year        33873 non-null  int64  \n",
      " 8   disc_facility    33873 non-null  object \n",
      " 9   soltype          33873 non-null  object \n",
      " 10  pl_controv_flag  33873 non-null  int64  \n",
      " 11  pl_refname       33873 non-null  object \n",
      " 12  pl_orbper        30980 non-null  float64\n",
      " 13  pl_orbpererr1    29722 non-null  float64\n",
      " 14  pl_orbpererr2    29721 non-null  float64\n",
      " 15  pl_orbperlim     30980 non-null  float64\n",
      " 16  pl_orbsmax       18551 non-null  float64\n",
      " 17  pl_orbsmaxerr1   4568 non-null   float64\n",
      " 18  pl_orbsmaxerr2   4567 non-null   float64\n",
      " 19  pl_orbsmaxlim    21257 non-null  float64\n",
      " 20  pl_rade          23399 non-null  float64\n",
      " 21  pl_radeerr1      22753 non-null  float64\n",
      " 22  pl_radeerr2      22753 non-null  float64\n",
      " 23  pl_radelim       26071 non-null  float64\n",
      " 24  pl_radj          10576 non-null  float64\n",
      " 25  pl_radjerr1      9974 non-null   float64\n",
      " 26  pl_radjerr2      9974 non-null   float64\n",
      " 27  pl_radjlim       10576 non-null  float64\n",
      " 28  pl_bmasse        5086 non-null   float64\n",
      " 29  pl_bmasseerr1    4639 non-null   float64\n",
      " 30  pl_bmasseerr2    4639 non-null   float64\n",
      " 31  pl_bmasselim     5086 non-null   float64\n",
      " 32  pl_bmassj        5085 non-null   float64\n",
      " 33  pl_bmassjerr1    4633 non-null   float64\n",
      " 34  pl_bmassjerr2    4633 non-null   float64\n",
      " 35  pl_bmassjlim     5085 non-null   float64\n",
      " 36  pl_bmassprov     5086 non-null   object \n",
      " 37  pl_orbeccen      16938 non-null  float64\n",
      " 38  pl_orbeccenerr1  2846 non-null   float64\n",
      " 39  pl_orbeccenerr2  2845 non-null   float64\n",
      " 40  pl_orbeccenlim   19611 non-null  float64\n",
      " 41  pl_insol         14358 non-null  float64\n",
      " 42  pl_insolerr1     13558 non-null  float64\n",
      " 43  pl_insolerr2     13558 non-null  float64\n",
      " 44  pl_insollim      19297 non-null  float64\n",
      " 45  pl_eqt           15414 non-null  float64\n",
      " 46  pl_eqterr1       1618 non-null   float64\n",
      " 47  pl_eqterr2       1618 non-null   float64\n",
      " 48  pl_eqtlim        18086 non-null  float64\n",
      " 49  ttv_flag         33873 non-null  int64  \n",
      " 50  st_refname       33557 non-null  object \n",
      " 51  st_spectype      1996 non-null   object \n",
      " 52  st_teff          31442 non-null  float64\n",
      " 53  st_tefferr1      30753 non-null  float64\n",
      " 54  st_tefferr2      30512 non-null  float64\n",
      " 55  st_tefflim       31442 non-null  float64\n",
      " 56  st_rad           31562 non-null  float64\n",
      " 57  st_raderr1       26142 non-null  float64\n",
      " 58  st_raderr2       26003 non-null  float64\n",
      " 59  st_radlim        31562 non-null  float64\n",
      " 60  st_mass          28583 non-null  float64\n",
      " 61  st_masserr1      23264 non-null  float64\n",
      " 62  st_masserr2      23125 non-null  float64\n",
      " 63  st_masslim       28583 non-null  float64\n",
      " 64  st_met           21346 non-null  float64\n",
      " 65  st_meterr1       20692 non-null  float64\n",
      " 66  st_meterr2       20692 non-null  float64\n",
      " 67  st_metlim        23618 non-null  float64\n",
      " 68  st_metratio      21157 non-null  object \n",
      " 69  st_logg          27869 non-null  float64\n",
      " 70  st_loggerr1      22722 non-null  float64\n",
      " 71  st_loggerr2      22721 non-null  float64\n",
      " 72  st_logglim       27869 non-null  float64\n",
      " 73  sy_refname       33873 non-null  object \n",
      " 74  rastr            33873 non-null  object \n",
      " 75  ra               33873 non-null  float64\n",
      " 76  decstr           33873 non-null  object \n",
      " 77  dec              33873 non-null  float64\n",
      " 78  sy_dist          33073 non-null  float64\n",
      " 79  sy_disterr1      32249 non-null  float64\n",
      " 80  sy_disterr2      32249 non-null  float64\n",
      " 81  sy_vmag          33405 non-null  float64\n",
      " 82  sy_vmagerr1      33392 non-null  float64\n",
      " 83  sy_vmagerr2      33391 non-null  float64\n",
      " 84  sy_kmag          33386 non-null  float64\n",
      " 85  sy_kmagerr1      33170 non-null  float64\n",
      " 86  sy_kmagerr2      33170 non-null  float64\n",
      " 87  sy_gaiamag       33103 non-null  float64\n",
      " 88  sy_gaiamagerr1   33103 non-null  float64\n",
      " 89  sy_gaiamagerr2   33103 non-null  float64\n",
      " 90  rowupdate        33872 non-null  object \n",
      " 91  pl_pubdate       33873 non-null  object \n",
      " 92  releasedate      33873 non-null  object \n",
      "dtypes: float64(70), int64(7), object(16)\n",
      "memory usage: 24.0+ MB\n"
     ]
    }
   ],
   "source": [
    "exoplanets.info()"
   ]
  },
  {
   "cell_type": "code",
   "execution_count": 4,
   "metadata": {},
   "outputs": [
    {
     "data": {
      "text/plain": [
       "float64    70\n",
       "object     16\n",
       "int64       7\n",
       "dtype: int64"
      ]
     },
     "execution_count": 4,
     "metadata": {},
     "output_type": "execute_result"
    }
   ],
   "source": [
    "exoplanets.dtypes.value_counts()"
   ]
  },
  {
   "cell_type": "code",
   "execution_count": 5,
   "metadata": {},
   "outputs": [],
   "source": [
    "exo_num = exoplanets.select_dtypes(include=['int','float'])\n",
    "exo_cat = exoplanets.select_dtypes(include=['object'])"
   ]
  },
  {
   "cell_type": "code",
   "execution_count": 6,
   "metadata": {},
   "outputs": [
    {
     "data": {
      "text/plain": [
       "Kepler                                            26073\n",
       "K2                                                 1866\n",
       "SuperWASP                                           821\n",
       "Transiting Exoplanet Survey Satellite (TESS)        673\n",
       "W. M. Keck Observatory                              603\n",
       "                                                  ...  \n",
       "KOINet                                                1\n",
       "SPECULOOS Southern Observatory                        1\n",
       "NASA Infrared Telescope Facility (IRTF)               1\n",
       "Wide-field Infrared Survey Explorer (WISE) Sat        1\n",
       "Mauna Kea Observatory                                 1\n",
       "Name: disc_facility, Length: 68, dtype: int64"
      ]
     },
     "execution_count": 6,
     "metadata": {},
     "output_type": "execute_result"
    }
   ],
   "source": [
    "exo_cat['disc_facility'].value_counts()"
   ]
  },
  {
   "attachments": {},
   "cell_type": "markdown",
   "metadata": {},
   "source": [
    "Honestly started with observatory just because it was the easiest to understand at a glance. This is a very rich dataset.\n",
    "\n",
    "Next lets try discovery method"
   ]
  },
  {
   "attachments": {},
   "cell_type": "markdown",
   "metadata": {},
   "source": [
    "Lets see what other categories we can summarize - these the quick wins!"
   ]
  },
  {
   "attachments": {},
   "cell_type": "markdown",
   "metadata": {},
   "source": [
    "How about we see how different stars were discovered. Keep in mind that since many papers discover the same planets, this counts the number of papers discovering that planet using the given method"
   ]
  },
  {
   "cell_type": "code",
   "execution_count": 13,
   "metadata": {},
   "outputs": [
    {
     "ename": "ValueError",
     "evalue": "Must provide an even number of non-keyword arguments",
     "output_type": "error",
     "traceback": [
      "\u001b[1;31m---------------------------------------------------------------------------\u001b[0m",
      "\u001b[1;31mValueError\u001b[0m                                Traceback (most recent call last)",
      "Cell \u001b[1;32mIn[13], line 1\u001b[0m\n\u001b[1;32m----> 1\u001b[0m pd\u001b[39m.\u001b[39;49mset_option({\u001b[39m\"\u001b[39;49m\u001b[39mdisplay.max_columns\u001b[39;49m\u001b[39m\"\u001b[39;49m: \u001b[39m90\u001b[39;49m})\n\u001b[0;32m      2\u001b[0m exo_num\u001b[39m.\u001b[39mhead()\n",
      "File \u001b[1;32mc:\\Users\\rtess\\AppData\\Local\\Programs\\Python\\Python311\\Lib\\site-packages\\pandas\\_config\\config.py:263\u001b[0m, in \u001b[0;36mCallableDynamicDoc.__call__\u001b[1;34m(self, *args, **kwds)\u001b[0m\n\u001b[0;32m    262\u001b[0m \u001b[39mdef\u001b[39;00m \u001b[39m__call__\u001b[39m(\u001b[39mself\u001b[39m, \u001b[39m*\u001b[39margs, \u001b[39m*\u001b[39m\u001b[39m*\u001b[39mkwds) \u001b[39m-\u001b[39m\u001b[39m>\u001b[39m T:\n\u001b[1;32m--> 263\u001b[0m     \u001b[39mreturn\u001b[39;00m \u001b[39mself\u001b[39;49m\u001b[39m.\u001b[39;49m\u001b[39m__func__\u001b[39;49m(\u001b[39m*\u001b[39;49margs, \u001b[39m*\u001b[39;49m\u001b[39m*\u001b[39;49mkwds)\n",
      "File \u001b[1;32mc:\\Users\\rtess\\AppData\\Local\\Programs\\Python\\Python311\\Lib\\site-packages\\pandas\\_config\\config.py:146\u001b[0m, in \u001b[0;36m_set_option\u001b[1;34m(*args, **kwargs)\u001b[0m\n\u001b[0;32m    144\u001b[0m nargs \u001b[39m=\u001b[39m \u001b[39mlen\u001b[39m(args)\n\u001b[0;32m    145\u001b[0m \u001b[39mif\u001b[39;00m \u001b[39mnot\u001b[39;00m nargs \u001b[39mor\u001b[39;00m nargs \u001b[39m%\u001b[39m \u001b[39m2\u001b[39m \u001b[39m!=\u001b[39m \u001b[39m0\u001b[39m:\n\u001b[1;32m--> 146\u001b[0m     \u001b[39mraise\u001b[39;00m \u001b[39mValueError\u001b[39;00m(\u001b[39m\"\u001b[39m\u001b[39mMust provide an even number of non-keyword arguments\u001b[39m\u001b[39m\"\u001b[39m)\n\u001b[0;32m    148\u001b[0m \u001b[39m# default to false\u001b[39;00m\n\u001b[0;32m    149\u001b[0m silent \u001b[39m=\u001b[39m kwargs\u001b[39m.\u001b[39mpop(\u001b[39m\"\u001b[39m\u001b[39msilent\u001b[39m\u001b[39m\"\u001b[39m, \u001b[39mFalse\u001b[39;00m)\n",
      "\u001b[1;31mValueError\u001b[0m: Must provide an even number of non-keyword arguments"
     ]
    }
   ],
   "source": [
    "#pd.set_option({\"display.max_columns\": 90})\n",
    "exo_num.head()"
   ]
  },
  {
   "cell_type": "code",
   "execution_count": 7,
   "metadata": {},
   "outputs": [
    {
     "data": {
      "text/html": [
       "<div>\n",
       "<style scoped>\n",
       "    .dataframe tbody tr th:only-of-type {\n",
       "        vertical-align: middle;\n",
       "    }\n",
       "\n",
       "    .dataframe tbody tr th {\n",
       "        vertical-align: top;\n",
       "    }\n",
       "\n",
       "    .dataframe thead th {\n",
       "        text-align: right;\n",
       "    }\n",
       "</style>\n",
       "<table border=\"1\" class=\"dataframe\">\n",
       "  <thead>\n",
       "    <tr style=\"text-align: right;\">\n",
       "      <th></th>\n",
       "      <th>pl_name</th>\n",
       "      <th>hostname</th>\n",
       "      <th>discoverymethod</th>\n",
       "      <th>disc_facility</th>\n",
       "      <th>soltype</th>\n",
       "      <th>pl_refname</th>\n",
       "      <th>pl_bmassprov</th>\n",
       "      <th>st_refname</th>\n",
       "      <th>st_spectype</th>\n",
       "      <th>st_metratio</th>\n",
       "      <th>sy_refname</th>\n",
       "      <th>rastr</th>\n",
       "      <th>decstr</th>\n",
       "      <th>rowupdate</th>\n",
       "      <th>pl_pubdate</th>\n",
       "      <th>releasedate</th>\n",
       "    </tr>\n",
       "  </thead>\n",
       "  <tbody>\n",
       "    <tr>\n",
       "      <th>0</th>\n",
       "      <td>11 Com b</td>\n",
       "      <td>11 Com</td>\n",
       "      <td>Radial Velocity</td>\n",
       "      <td>Xinglong Station</td>\n",
       "      <td>Published Confirmed</td>\n",
       "      <td>&lt;a refstr=LIU_ET_AL__2008 href=https://ui.adsa...</td>\n",
       "      <td>Msini</td>\n",
       "      <td>&lt;a refstr=LIU_ET_AL__2008 href=https://ui.adsa...</td>\n",
       "      <td>G8 III</td>\n",
       "      <td>[Fe/H]</td>\n",
       "      <td>&lt;a refstr=STASSUN_ET_AL__2019 href=https://ui....</td>\n",
       "      <td>12h20m42.91s</td>\n",
       "      <td>+17d47m35.71s</td>\n",
       "      <td>2014-05-14</td>\n",
       "      <td>Jan-08</td>\n",
       "      <td>2014-05-14</td>\n",
       "    </tr>\n",
       "    <tr>\n",
       "      <th>1</th>\n",
       "      <td>11 Com b</td>\n",
       "      <td>11 Com</td>\n",
       "      <td>Radial Velocity</td>\n",
       "      <td>Xinglong Station</td>\n",
       "      <td>Published Confirmed</td>\n",
       "      <td>&lt;a refstr=KUNITOMO_ET_AL__2011 href=https://ui...</td>\n",
       "      <td>Msini</td>\n",
       "      <td>&lt;a refstr=KUNITOMO_ET_AL__2011 href=https://ui...</td>\n",
       "      <td>NaN</td>\n",
       "      <td>NaN</td>\n",
       "      <td>&lt;a refstr=STASSUN_ET_AL__2019 href=https://ui....</td>\n",
       "      <td>12h20m42.91s</td>\n",
       "      <td>+17d47m35.71s</td>\n",
       "      <td>2014-07-23</td>\n",
       "      <td>Aug-11</td>\n",
       "      <td>2014-07-23</td>\n",
       "    </tr>\n",
       "    <tr>\n",
       "      <th>2</th>\n",
       "      <td>11 UMi b</td>\n",
       "      <td>11 UMi</td>\n",
       "      <td>Radial Velocity</td>\n",
       "      <td>Thueringer Landessternwarte Tautenburg</td>\n",
       "      <td>Published Confirmed</td>\n",
       "      <td>&lt;a refstr=DOLLINGER_ET_AL__2009 href=https://u...</td>\n",
       "      <td>Msini</td>\n",
       "      <td>&lt;a refstr=DOLLINGER_ET_AL__2009 href=https://u...</td>\n",
       "      <td>K4 III</td>\n",
       "      <td>[Fe/H]</td>\n",
       "      <td>&lt;a refstr=STASSUN_ET_AL__2019 href=https://ui....</td>\n",
       "      <td>15h17m05.90s</td>\n",
       "      <td>+71d49m26.19s</td>\n",
       "      <td>2018-04-25</td>\n",
       "      <td>Oct-09</td>\n",
       "      <td>2014-05-14</td>\n",
       "    </tr>\n",
       "    <tr>\n",
       "      <th>3</th>\n",
       "      <td>11 UMi b</td>\n",
       "      <td>11 UMi</td>\n",
       "      <td>Radial Velocity</td>\n",
       "      <td>Thueringer Landessternwarte Tautenburg</td>\n",
       "      <td>Published Confirmed</td>\n",
       "      <td>&lt;a refstr=KUNITOMO_ET_AL__2011 href=https://ui...</td>\n",
       "      <td>Msini</td>\n",
       "      <td>&lt;a refstr=KUNITOMO_ET_AL__2011 href=https://ui...</td>\n",
       "      <td>NaN</td>\n",
       "      <td>NaN</td>\n",
       "      <td>&lt;a refstr=STASSUN_ET_AL__2019 href=https://ui....</td>\n",
       "      <td>15h17m05.90s</td>\n",
       "      <td>+71d49m26.19s</td>\n",
       "      <td>2018-04-25</td>\n",
       "      <td>Aug-11</td>\n",
       "      <td>2014-07-23</td>\n",
       "    </tr>\n",
       "    <tr>\n",
       "      <th>4</th>\n",
       "      <td>11 UMi b</td>\n",
       "      <td>11 UMi</td>\n",
       "      <td>Radial Velocity</td>\n",
       "      <td>Thueringer Landessternwarte Tautenburg</td>\n",
       "      <td>Published Confirmed</td>\n",
       "      <td>&lt;a refstr=STASSUN_ET_AL__2017 href=https://ui....</td>\n",
       "      <td>Msini</td>\n",
       "      <td>&lt;a refstr=STASSUN_ET_AL__2017 href=https://ui....</td>\n",
       "      <td>NaN</td>\n",
       "      <td>[Fe/H]</td>\n",
       "      <td>&lt;a refstr=STASSUN_ET_AL__2019 href=https://ui....</td>\n",
       "      <td>15h17m05.90s</td>\n",
       "      <td>+71d49m26.19s</td>\n",
       "      <td>2018-09-04</td>\n",
       "      <td>Mar-17</td>\n",
       "      <td>2018-09-06</td>\n",
       "    </tr>\n",
       "  </tbody>\n",
       "</table>\n",
       "</div>"
      ],
      "text/plain": [
       "    pl_name hostname  discoverymethod                           disc_facility  \\\n",
       "0  11 Com b   11 Com  Radial Velocity                        Xinglong Station   \n",
       "1  11 Com b   11 Com  Radial Velocity                        Xinglong Station   \n",
       "2  11 UMi b   11 UMi  Radial Velocity  Thueringer Landessternwarte Tautenburg   \n",
       "3  11 UMi b   11 UMi  Radial Velocity  Thueringer Landessternwarte Tautenburg   \n",
       "4  11 UMi b   11 UMi  Radial Velocity  Thueringer Landessternwarte Tautenburg   \n",
       "\n",
       "               soltype                                         pl_refname  \\\n",
       "0  Published Confirmed  <a refstr=LIU_ET_AL__2008 href=https://ui.adsa...   \n",
       "1  Published Confirmed  <a refstr=KUNITOMO_ET_AL__2011 href=https://ui...   \n",
       "2  Published Confirmed  <a refstr=DOLLINGER_ET_AL__2009 href=https://u...   \n",
       "3  Published Confirmed  <a refstr=KUNITOMO_ET_AL__2011 href=https://ui...   \n",
       "4  Published Confirmed  <a refstr=STASSUN_ET_AL__2017 href=https://ui....   \n",
       "\n",
       "  pl_bmassprov                                         st_refname st_spectype  \\\n",
       "0        Msini  <a refstr=LIU_ET_AL__2008 href=https://ui.adsa...      G8 III   \n",
       "1        Msini  <a refstr=KUNITOMO_ET_AL__2011 href=https://ui...         NaN   \n",
       "2        Msini  <a refstr=DOLLINGER_ET_AL__2009 href=https://u...      K4 III   \n",
       "3        Msini  <a refstr=KUNITOMO_ET_AL__2011 href=https://ui...         NaN   \n",
       "4        Msini  <a refstr=STASSUN_ET_AL__2017 href=https://ui....         NaN   \n",
       "\n",
       "  st_metratio                                         sy_refname  \\\n",
       "0      [Fe/H]  <a refstr=STASSUN_ET_AL__2019 href=https://ui....   \n",
       "1         NaN  <a refstr=STASSUN_ET_AL__2019 href=https://ui....   \n",
       "2      [Fe/H]  <a refstr=STASSUN_ET_AL__2019 href=https://ui....   \n",
       "3         NaN  <a refstr=STASSUN_ET_AL__2019 href=https://ui....   \n",
       "4      [Fe/H]  <a refstr=STASSUN_ET_AL__2019 href=https://ui....   \n",
       "\n",
       "          rastr         decstr   rowupdate pl_pubdate releasedate  \n",
       "0  12h20m42.91s  +17d47m35.71s  2014-05-14     Jan-08  2014-05-14  \n",
       "1  12h20m42.91s  +17d47m35.71s  2014-07-23     Aug-11  2014-07-23  \n",
       "2  15h17m05.90s  +71d49m26.19s  2018-04-25     Oct-09  2014-05-14  \n",
       "3  15h17m05.90s  +71d49m26.19s  2018-04-25     Aug-11  2014-07-23  \n",
       "4  15h17m05.90s  +71d49m26.19s  2018-09-04     Mar-17  2018-09-06  "
      ]
     },
     "execution_count": 7,
     "metadata": {},
     "output_type": "execute_result"
    }
   ],
   "source": [
    "exo_cat.head()"
   ]
  },
  {
   "cell_type": "code",
   "execution_count": 8,
   "metadata": {},
   "outputs": [
    {
     "data": {
      "text/plain": [
       "TrES-2 b       32\n",
       "GJ 436 b       21\n",
       "HAT-P-7 b      21\n",
       "HD 189733 b    20\n",
       "Kepler-10 b    20\n",
       "               ..\n",
       "HD 238914 b     1\n",
       "HD 238090 b     1\n",
       "HD 233604 b     1\n",
       "HD 22781 b      1\n",
       "HD 21693 b      1\n",
       "Name: pl_name, Length: 5243, dtype: int64"
      ]
     },
     "execution_count": 8,
     "metadata": {},
     "output_type": "execute_result"
    }
   ],
   "source": [
    "exo_cat['pl_name'].value_counts()"
   ]
  },
  {
   "attachments": {},
   "cell_type": "markdown",
   "metadata": {},
   "source": [
    "Okay, when we count the duplicate entries in `pl_name` column , we see the length of the count is 5243, which is the number of confirmed exoplanets, so the data is complete as per this screenshot and can be confident that `pl_name` is planets\n",
    "\n",
    "\n",
    "![Number of exoplanets & confirmed exoplanets on frontpage of NASA Exoplanet Archive website](num_exoplanets.png)"
   ]
  },
  {
   "cell_type": "code",
   "execution_count": 9,
   "metadata": {},
   "outputs": [
    {
     "data": {
      "text/plain": [
       "Kepler-11     85\n",
       "Kepler-32     76\n",
       "Kepler-186    75\n",
       "Kepler-296    69\n",
       "Kepler-33     62\n",
       "              ..\n",
       "HD 222076      1\n",
       "K2-206         1\n",
       "HD 22496       1\n",
       "HD 22532       1\n",
       "Kepler-453     1\n",
       "Name: hostname, Length: 3917, dtype: int64"
      ]
     },
     "execution_count": 9,
     "metadata": {},
     "output_type": "execute_result"
    }
   ],
   "source": [
    "exo_cat['hostname'].value_counts()"
   ]
  },
  {
   "cell_type": "code",
   "execution_count": 18,
   "metadata": {},
   "outputs": [
    {
     "data": {
      "text/plain": [
       "Transit                          30841\n",
       "Radial Velocity                   2282\n",
       "Microlensing                       448\n",
       "Transit Timing Variations          121\n",
       "Imaging                            120\n",
       "Eclipse Timing Variations           24\n",
       "Orbital Brightness Modulation       20\n",
       "Pulsar Timing                       12\n",
       "Astrometry                           2\n",
       "Pulsation Timing Variations          2\n",
       "Disk Kinematics                      1\n",
       "Name: discoverymethod, dtype: int64"
      ]
     },
     "execution_count": 18,
     "metadata": {},
     "output_type": "execute_result"
    }
   ],
   "source": [
    "exo_cat['discoverymethod'].value_counts()"
   ]
  },
  {
   "cell_type": "code",
   "execution_count": 11,
   "metadata": {},
   "outputs": [
    {
     "data": {
      "text/plain": [
       "Published Confirmed                               16830\n",
       "Kepler Project Candidate (q1_q17_dr25_sup_koi)     2666\n",
       "Kepler Project Candidate (q1_q16_koi)              2656\n",
       "Kepler Project Candidate (q1_q17_dr25_koi)         2649\n",
       "Kepler Project Candidate (q1_q17_dr24_koi)         2637\n",
       "Kepler Project Candidate (q1_q12_koi)              2620\n",
       "Kepler Project Candidate (q1_q8_koi)               2267\n",
       "Published Candidate                                 776\n",
       "TESS Project Candidate                              772\n",
       "Name: soltype, dtype: int64"
      ]
     },
     "execution_count": 11,
     "metadata": {},
     "output_type": "execute_result"
    }
   ],
   "source": [
    "exo_cat['soltype'].value_counts()"
   ]
  },
  {
   "attachments": {},
   "cell_type": "markdown",
   "metadata": {},
   "source": [
    "My boys asked how many exoplanets we have discovered are bigger than jupiter"
   ]
  },
  {
   "cell_type": "code",
   "execution_count": 14,
   "metadata": {},
   "outputs": [
    {
     "data": {
      "text/plain": [
       "TrES-2 b                   20\n",
       "HD 209458 b                14\n",
       "WASP-18 b                  11\n",
       "WASP-4 b                   11\n",
       "K2-34 b                    11\n",
       "                           ..\n",
       "KOI-94 d                    1\n",
       "WASP-129 b                  1\n",
       "WASP-133 b                  1\n",
       "KELT-10 b                   1\n",
       "1RXS J160929.1-210524 b     1\n",
       "Name: pl_name, Length: 599, dtype: int64"
      ]
     },
     "execution_count": 14,
     "metadata": {},
     "output_type": "execute_result"
    }
   ],
   "source": [
    "exoplanets[exoplanets['pl_radj']>=1]['pl_name'].value_counts()\n"
   ]
  },
  {
   "cell_type": "code",
   "execution_count": 16,
   "metadata": {},
   "outputs": [
    {
     "data": {
      "text/plain": [
       "TrES-2 b                   25\n",
       "Kepler-138 c               15\n",
       "Kepler-10 b                15\n",
       "Kepler-26 c                15\n",
       "HAT-P-7 b                  15\n",
       "                           ..\n",
       "Kepler-80 g                 1\n",
       "K2-266 b                    1\n",
       "HATS-37 A b                 1\n",
       "K2-258 b                    1\n",
       "1RXS J160929.1-210524 b     1\n",
       "Name: pl_name, Length: 3907, dtype: int64"
      ]
     },
     "execution_count": 16,
     "metadata": {},
     "output_type": "execute_result"
    }
   ],
   "source": [
    "exoplanets[exoplanets['pl_rade']>=1]['pl_name'].value_counts()\n"
   ]
  },
  {
   "cell_type": "code",
   "execution_count": 15,
   "metadata": {},
   "outputs": [
    {
     "data": {
      "text/plain": [
       "TrES-2 b                17\n",
       "MOA-2019-BLG-008L b     12\n",
       "WASP-18 b               12\n",
       "HD 189733 b             11\n",
       "55 Cnc d                10\n",
       "                        ..\n",
       "HD 12484 b               1\n",
       "HD 125271 b              1\n",
       "HD 217850 b              1\n",
       "KMT-2018-BLG-1743L b     1\n",
       "Kepler-448 c             1\n",
       "Name: pl_name, Length: 1011, dtype: int64"
      ]
     },
     "execution_count": 15,
     "metadata": {},
     "output_type": "execute_result"
    }
   ],
   "source": [
    "exoplanets[exoplanets['pl_bmassj']>=1]['pl_name'].value_counts()"
   ]
  },
  {
   "cell_type": "code",
   "execution_count": 17,
   "metadata": {},
   "outputs": [
    {
     "data": {
      "text/plain": [
       "TrES-2 b                 17\n",
       "OGLE-2015-BLG-0966L b    16\n",
       "GJ 436 b                 15\n",
       "HD 209458 b              13\n",
       "MOA-2019-BLG-008L b      12\n",
       "                         ..\n",
       "HD 140901 c               1\n",
       "HD 141004 b               1\n",
       "Kepler-136 b              1\n",
       "Kepler-131 c              1\n",
       "HIP 97166 c               1\n",
       "Name: pl_name, Length: 2392, dtype: int64"
      ]
     },
     "execution_count": 17,
     "metadata": {},
     "output_type": "execute_result"
    }
   ],
   "source": [
    "exoplanets[exoplanets['pl_bmasse']>=1]['pl_name'].value_counts()"
   ]
  },
  {
   "cell_type": "code",
   "execution_count": 32,
   "metadata": {},
   "outputs": [
    {
     "data": {
      "text/html": [
       "<div>\n",
       "<style scoped>\n",
       "    .dataframe tbody tr th:only-of-type {\n",
       "        vertical-align: middle;\n",
       "    }\n",
       "\n",
       "    .dataframe tbody tr th {\n",
       "        vertical-align: top;\n",
       "    }\n",
       "\n",
       "    .dataframe thead th {\n",
       "        text-align: right;\n",
       "    }\n",
       "</style>\n",
       "<table border=\"1\" class=\"dataframe\">\n",
       "  <thead>\n",
       "    <tr style=\"text-align: right;\">\n",
       "      <th></th>\n",
       "      <th>pl_orbper</th>\n",
       "      <th>pl_orbsmax</th>\n",
       "      <th>pl_bmasse</th>\n",
       "      <th>pl_rade</th>\n",
       "      <th>pl_radj</th>\n",
       "    </tr>\n",
       "    <tr>\n",
       "      <th>pl_name</th>\n",
       "      <th></th>\n",
       "      <th></th>\n",
       "      <th></th>\n",
       "      <th></th>\n",
       "      <th></th>\n",
       "    </tr>\n",
       "  </thead>\n",
       "  <tbody>\n",
       "    <tr>\n",
       "      <th>TOI-2109 b</th>\n",
       "      <td>0.672490</td>\n",
       "      <td>0.01791</td>\n",
       "      <td>1595.49860</td>\n",
       "      <td>15.729</td>\n",
       "      <td>1.403</td>\n",
       "    </tr>\n",
       "    <tr>\n",
       "      <th>NGTS-10 b</th>\n",
       "      <td>0.766894</td>\n",
       "      <td>0.01430</td>\n",
       "      <td>687.14846</td>\n",
       "      <td>13.507</td>\n",
       "      <td>1.205</td>\n",
       "    </tr>\n",
       "    <tr>\n",
       "      <th>WASP-19 b</th>\n",
       "      <td>0.790000</td>\n",
       "      <td>0.01655</td>\n",
       "      <td>371.21000</td>\n",
       "      <td>16.125</td>\n",
       "      <td>1.439</td>\n",
       "    </tr>\n",
       "    <tr>\n",
       "      <th>WASP-43 b</th>\n",
       "      <td>0.813478</td>\n",
       "      <td>0.01528</td>\n",
       "      <td>651.55150</td>\n",
       "      <td>13.160</td>\n",
       "      <td>1.174</td>\n",
       "    </tr>\n",
       "    <tr>\n",
       "      <th>HATS-18 b</th>\n",
       "      <td>0.837844</td>\n",
       "      <td>0.01761</td>\n",
       "      <td>629.30340</td>\n",
       "      <td>15.116</td>\n",
       "      <td>1.349</td>\n",
       "    </tr>\n",
       "    <tr>\n",
       "      <th>...</th>\n",
       "      <td>...</td>\n",
       "      <td>...</td>\n",
       "      <td>...</td>\n",
       "      <td>...</td>\n",
       "      <td>...</td>\n",
       "    </tr>\n",
       "    <tr>\n",
       "      <th>Kepler-289 c</th>\n",
       "      <td>125.866438</td>\n",
       "      <td>0.51800</td>\n",
       "      <td>133.48860</td>\n",
       "      <td>18.600</td>\n",
       "      <td>1.163</td>\n",
       "    </tr>\n",
       "    <tr>\n",
       "      <th>Kepler-51 d</th>\n",
       "      <td>130.194000</td>\n",
       "      <td>0.51210</td>\n",
       "      <td>7.60000</td>\n",
       "      <td>11.800</td>\n",
       "      <td>1.053</td>\n",
       "    </tr>\n",
       "    <tr>\n",
       "      <th>TIC 172900988 b</th>\n",
       "      <td>204.046000</td>\n",
       "      <td>0.91359</td>\n",
       "      <td>981.30000</td>\n",
       "      <td>11.300</td>\n",
       "      <td>1.008</td>\n",
       "    </tr>\n",
       "    <tr>\n",
       "      <th>Kepler-1514 b</th>\n",
       "      <td>217.833702</td>\n",
       "      <td>0.75450</td>\n",
       "      <td>1678.14240</td>\n",
       "      <td>22.020</td>\n",
       "      <td>1.108</td>\n",
       "    </tr>\n",
       "    <tr>\n",
       "      <th>TOI-2180 b</th>\n",
       "      <td>260.790000</td>\n",
       "      <td>0.82800</td>\n",
       "      <td>875.61726</td>\n",
       "      <td>11.337</td>\n",
       "      <td>1.011</td>\n",
       "    </tr>\n",
       "  </tbody>\n",
       "</table>\n",
       "<p>509 rows × 5 columns</p>\n",
       "</div>"
      ],
      "text/plain": [
       "                  pl_orbper  pl_orbsmax   pl_bmasse  pl_rade  pl_radj\n",
       "pl_name                                                              \n",
       "TOI-2109 b         0.672490     0.01791  1595.49860   15.729    1.403\n",
       "NGTS-10 b          0.766894     0.01430   687.14846   13.507    1.205\n",
       "WASP-19 b          0.790000     0.01655   371.21000   16.125    1.439\n",
       "WASP-43 b          0.813478     0.01528   651.55150   13.160    1.174\n",
       "HATS-18 b          0.837844     0.01761   629.30340   15.116    1.349\n",
       "...                     ...         ...         ...      ...      ...\n",
       "Kepler-289 c     125.866438     0.51800   133.48860   18.600    1.163\n",
       "Kepler-51 d      130.194000     0.51210     7.60000   11.800    1.053\n",
       "TIC 172900988 b  204.046000     0.91359   981.30000   11.300    1.008\n",
       "Kepler-1514 b    217.833702     0.75450  1678.14240   22.020    1.108\n",
       "TOI-2180 b       260.790000     0.82800   875.61726   11.337    1.011\n",
       "\n",
       "[509 rows x 5 columns]"
      ]
     },
     "execution_count": 32,
     "metadata": {},
     "output_type": "execute_result"
    }
   ],
   "source": [
    "exopl_char = exoplanets[['pl_name', 'pl_orbper', 'pl_orbsmax', 'pl_bmasse', 'pl_rade', 'pl_radj']].groupby('pl_name').max()\n",
    "\n",
    "close_to_star = exopl_char[exopl_char['pl_orbsmax']<=1].sort_values(by = 'pl_orbper').dropna()\n",
    "\n",
    "close_to_star[close_to_star['pl_radj']>=1]\n"
   ]
  },
  {
   "cell_type": "code",
   "execution_count": 38,
   "metadata": {},
   "outputs": [
    {
     "data": {
      "text/plain": [
       "<AxesSubplot: xlabel='pl_rade', ylabel='Count'>"
      ]
     },
     "execution_count": 38,
     "metadata": {},
     "output_type": "execute_result"
    },
    {
     "data": {
      "image/png": "[encoded data removed]",
      "text/plain": [
       "<Figure size 640x480 with 1 Axes>"
      ]
     },
     "metadata": {},
     "output_type": "display_data"
    }
   ],
   "source": [
    "%matplotlib inline\n",
    "\n",
    "sns.histplot(exopl_char['pl_rade'], bins = 10)"
   ]
  },
  {
   "attachments": {},
   "cell_type": "markdown",
   "metadata": {},
   "source": [
    "Finally some actual characteristics of planets"
   ]
  },
  {
   "cell_type": "code",
   "execution_count": 12,
   "metadata": {},
   "outputs": [
    {
     "data": {
      "text/plain": [
       "G0 V              70\n",
       "G5 V              59\n",
       "G5                59\n",
       "M0 V              57\n",
       "K0 V              56\n",
       "                  ..\n",
       "B9 Vne             1\n",
       "M3.3               1\n",
       "M(3.5+/-0.5) V     1\n",
       "K2 IV              1\n",
       "K1 IIIb-IV         1\n",
       "Name: st_spectype, Length: 228, dtype: int64"
      ]
     },
     "execution_count": 12,
     "metadata": {},
     "output_type": "execute_result"
    }
   ],
   "source": [
    "exoplanets['st_spectype'].value_counts()"
   ]
  },
  {
   "attachments": {},
   "cell_type": "markdown",
   "metadata": {},
   "source": [
    "Interesting, the column that supposedly gives spectral type is sparse. Mostly empty values"
   ]
  },
  {
   "cell_type": "code",
   "execution_count": 13,
   "metadata": {},
   "outputs": [
    {
     "data": {
      "text/plain": [
       "<AxesSubplot: >"
      ]
     },
     "execution_count": 13,
     "metadata": {},
     "output_type": "execute_result"
    },
    {
     "data": {
      "image/png": "[encoded data removed]",
      "text/plain": [
       "<Figure size 2500x1000 with 2 Axes>"
      ]
     },
     "metadata": {},
     "output_type": "display_data"
    }
   ],
   "source": [
    "%matplotlib inline\n",
    "\n",
    "msno.matrix(exo_cat.sample(250))"
   ]
  },
  {
   "cell_type": "code",
   "execution_count": null,
   "metadata": {},
   "outputs": [],
   "source": []
  }
 ],
 "metadata": {
  "kernelspec": {
   "display_name": "Python 3",
   "language": "python",
   "name": "python3"
  },
  "language_info": {
   "codemirror_mode": {
    "name": "ipython",
    "version": 3
   },
   "file_extension": ".py",
   "mimetype": "text/x-python",
   "name": "python",
   "nbconvert_exporter": "python",
   "pygments_lexer": "ipython3",
   "version": "3.11.1"
  },
  "orig_nbformat": 4,
  "vscode": {
   "interpreter": {
    "hash": "c02c17a3c2c8b66e059116a5d173e8575f76653ee4c3f8fcfd1de92b33877654"
   }
  }
 },
 "nbformat": 4,
 "nbformat_minor": 2
}
